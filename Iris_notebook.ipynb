{
 "cells": [
  {
   "cell_type": "code",
   "execution_count": 17,
   "id": "d0781df2",
   "metadata": {},
   "outputs": [],
   "source": [
    "import pandas as pd\n",
    "import matplotlib.pyplot as plt\n",
    "import numpy as np\n",
    "import seaborn as sns\n",
    "import sklearn\n",
    "np.random.seed(1)"
   ]
  },
  {
   "cell_type": "markdown",
   "id": "d1365390",
   "metadata": {},
   "source": [
    "## Import dataset Iris"
   ]
  },
  {
   "cell_type": "code",
   "execution_count": 4,
   "id": "4cd39b95",
   "metadata": {},
   "outputs": [],
   "source": [
    "# import dataset\n",
    "iris = pd.read_csv(\"C:/Users/salis/Desktop/iris.csv\",sep=\",\")\n"
   ]
  },
  {
   "cell_type": "code",
   "execution_count": 5,
   "id": "f6be8ba8",
   "metadata": {},
   "outputs": [
    {
     "data": {
      "text/html": [
       "<div>\n",
       "<style scoped>\n",
       "    .dataframe tbody tr th:only-of-type {\n",
       "        vertical-align: middle;\n",
       "    }\n",
       "\n",
       "    .dataframe tbody tr th {\n",
       "        vertical-align: top;\n",
       "    }\n",
       "\n",
       "    .dataframe thead th {\n",
       "        text-align: right;\n",
       "    }\n",
       "</style>\n",
       "<table border=\"1\" class=\"dataframe\">\n",
       "  <thead>\n",
       "    <tr style=\"text-align: right;\">\n",
       "      <th></th>\n",
       "      <th>sepal_length</th>\n",
       "      <th>sepal_width</th>\n",
       "      <th>petal_length</th>\n",
       "      <th>petal_width</th>\n",
       "      <th>species</th>\n",
       "    </tr>\n",
       "  </thead>\n",
       "  <tbody>\n",
       "    <tr>\n",
       "      <th>0</th>\n",
       "      <td>5.1</td>\n",
       "      <td>3.5</td>\n",
       "      <td>1.4</td>\n",
       "      <td>0.2</td>\n",
       "      <td>setosa</td>\n",
       "    </tr>\n",
       "    <tr>\n",
       "      <th>1</th>\n",
       "      <td>4.9</td>\n",
       "      <td>3.0</td>\n",
       "      <td>1.4</td>\n",
       "      <td>0.2</td>\n",
       "      <td>setosa</td>\n",
       "    </tr>\n",
       "    <tr>\n",
       "      <th>2</th>\n",
       "      <td>4.7</td>\n",
       "      <td>3.2</td>\n",
       "      <td>1.3</td>\n",
       "      <td>0.2</td>\n",
       "      <td>setosa</td>\n",
       "    </tr>\n",
       "    <tr>\n",
       "      <th>3</th>\n",
       "      <td>4.6</td>\n",
       "      <td>3.1</td>\n",
       "      <td>1.5</td>\n",
       "      <td>0.2</td>\n",
       "      <td>setosa</td>\n",
       "    </tr>\n",
       "    <tr>\n",
       "      <th>4</th>\n",
       "      <td>5.0</td>\n",
       "      <td>3.6</td>\n",
       "      <td>1.4</td>\n",
       "      <td>0.2</td>\n",
       "      <td>setosa</td>\n",
       "    </tr>\n",
       "    <tr>\n",
       "      <th>5</th>\n",
       "      <td>5.4</td>\n",
       "      <td>3.9</td>\n",
       "      <td>1.7</td>\n",
       "      <td>0.4</td>\n",
       "      <td>setosa</td>\n",
       "    </tr>\n",
       "    <tr>\n",
       "      <th>6</th>\n",
       "      <td>4.6</td>\n",
       "      <td>3.4</td>\n",
       "      <td>1.4</td>\n",
       "      <td>0.3</td>\n",
       "      <td>setosa</td>\n",
       "    </tr>\n",
       "    <tr>\n",
       "      <th>7</th>\n",
       "      <td>5.0</td>\n",
       "      <td>3.4</td>\n",
       "      <td>1.5</td>\n",
       "      <td>0.2</td>\n",
       "      <td>setosa</td>\n",
       "    </tr>\n",
       "    <tr>\n",
       "      <th>8</th>\n",
       "      <td>4.4</td>\n",
       "      <td>2.9</td>\n",
       "      <td>1.4</td>\n",
       "      <td>0.2</td>\n",
       "      <td>setosa</td>\n",
       "    </tr>\n",
       "    <tr>\n",
       "      <th>9</th>\n",
       "      <td>4.9</td>\n",
       "      <td>3.1</td>\n",
       "      <td>1.5</td>\n",
       "      <td>0.1</td>\n",
       "      <td>setosa</td>\n",
       "    </tr>\n",
       "  </tbody>\n",
       "</table>\n",
       "</div>"
      ],
      "text/plain": [
       "   sepal_length  sepal_width  petal_length  petal_width species\n",
       "0           5.1          3.5           1.4          0.2  setosa\n",
       "1           4.9          3.0           1.4          0.2  setosa\n",
       "2           4.7          3.2           1.3          0.2  setosa\n",
       "3           4.6          3.1           1.5          0.2  setosa\n",
       "4           5.0          3.6           1.4          0.2  setosa\n",
       "5           5.4          3.9           1.7          0.4  setosa\n",
       "6           4.6          3.4           1.4          0.3  setosa\n",
       "7           5.0          3.4           1.5          0.2  setosa\n",
       "8           4.4          2.9           1.4          0.2  setosa\n",
       "9           4.9          3.1           1.5          0.1  setosa"
      ]
     },
     "execution_count": 5,
     "metadata": {},
     "output_type": "execute_result"
    }
   ],
   "source": [
    "iris.head(10)"
   ]
  },
  {
   "cell_type": "code",
   "execution_count": 6,
   "id": "a7f92190",
   "metadata": {},
   "outputs": [
    {
     "data": {
      "text/html": [
       "<div>\n",
       "<style scoped>\n",
       "    .dataframe tbody tr th:only-of-type {\n",
       "        vertical-align: middle;\n",
       "    }\n",
       "\n",
       "    .dataframe tbody tr th {\n",
       "        vertical-align: top;\n",
       "    }\n",
       "\n",
       "    .dataframe thead th {\n",
       "        text-align: right;\n",
       "    }\n",
       "</style>\n",
       "<table border=\"1\" class=\"dataframe\">\n",
       "  <thead>\n",
       "    <tr style=\"text-align: right;\">\n",
       "      <th></th>\n",
       "      <th>sepal_length</th>\n",
       "      <th>sepal_width</th>\n",
       "      <th>petal_length</th>\n",
       "      <th>petal_width</th>\n",
       "      <th>species</th>\n",
       "    </tr>\n",
       "  </thead>\n",
       "  <tbody>\n",
       "    <tr>\n",
       "      <th>14</th>\n",
       "      <td>5.8</td>\n",
       "      <td>4.0</td>\n",
       "      <td>1.2</td>\n",
       "      <td>0.2</td>\n",
       "      <td>setosa</td>\n",
       "    </tr>\n",
       "    <tr>\n",
       "      <th>98</th>\n",
       "      <td>5.1</td>\n",
       "      <td>2.5</td>\n",
       "      <td>3.0</td>\n",
       "      <td>1.1</td>\n",
       "      <td>versicolor</td>\n",
       "    </tr>\n",
       "    <tr>\n",
       "      <th>75</th>\n",
       "      <td>6.6</td>\n",
       "      <td>3.0</td>\n",
       "      <td>4.4</td>\n",
       "      <td>1.4</td>\n",
       "      <td>versicolor</td>\n",
       "    </tr>\n",
       "    <tr>\n",
       "      <th>16</th>\n",
       "      <td>5.4</td>\n",
       "      <td>3.9</td>\n",
       "      <td>1.3</td>\n",
       "      <td>0.4</td>\n",
       "      <td>setosa</td>\n",
       "    </tr>\n",
       "    <tr>\n",
       "      <th>131</th>\n",
       "      <td>7.9</td>\n",
       "      <td>3.8</td>\n",
       "      <td>6.4</td>\n",
       "      <td>2.0</td>\n",
       "      <td>virginica</td>\n",
       "    </tr>\n",
       "    <tr>\n",
       "      <th>56</th>\n",
       "      <td>6.3</td>\n",
       "      <td>3.3</td>\n",
       "      <td>4.7</td>\n",
       "      <td>1.6</td>\n",
       "      <td>versicolor</td>\n",
       "    </tr>\n",
       "    <tr>\n",
       "      <th>141</th>\n",
       "      <td>6.9</td>\n",
       "      <td>3.1</td>\n",
       "      <td>5.1</td>\n",
       "      <td>2.3</td>\n",
       "      <td>virginica</td>\n",
       "    </tr>\n",
       "    <tr>\n",
       "      <th>44</th>\n",
       "      <td>5.1</td>\n",
       "      <td>3.8</td>\n",
       "      <td>1.9</td>\n",
       "      <td>0.4</td>\n",
       "      <td>setosa</td>\n",
       "    </tr>\n",
       "    <tr>\n",
       "      <th>29</th>\n",
       "      <td>4.7</td>\n",
       "      <td>3.2</td>\n",
       "      <td>1.6</td>\n",
       "      <td>0.2</td>\n",
       "      <td>setosa</td>\n",
       "    </tr>\n",
       "    <tr>\n",
       "      <th>120</th>\n",
       "      <td>6.9</td>\n",
       "      <td>3.2</td>\n",
       "      <td>5.7</td>\n",
       "      <td>2.3</td>\n",
       "      <td>virginica</td>\n",
       "    </tr>\n",
       "  </tbody>\n",
       "</table>\n",
       "</div>"
      ],
      "text/plain": [
       "     sepal_length  sepal_width  petal_length  petal_width     species\n",
       "14            5.8          4.0           1.2          0.2      setosa\n",
       "98            5.1          2.5           3.0          1.1  versicolor\n",
       "75            6.6          3.0           4.4          1.4  versicolor\n",
       "16            5.4          3.9           1.3          0.4      setosa\n",
       "131           7.9          3.8           6.4          2.0   virginica\n",
       "56            6.3          3.3           4.7          1.6  versicolor\n",
       "141           6.9          3.1           5.1          2.3   virginica\n",
       "44            5.1          3.8           1.9          0.4      setosa\n",
       "29            4.7          3.2           1.6          0.2      setosa\n",
       "120           6.9          3.2           5.7          2.3   virginica"
      ]
     },
     "execution_count": 6,
     "metadata": {},
     "output_type": "execute_result"
    }
   ],
   "source": [
    "# mix the rows\n",
    "\n",
    "shuffled_rows = np.random.permutation(iris.index)\n",
    "iris = iris.loc[shuffled_rows, :]\n",
    "\n",
    "iris.head(10)"
   ]
  },
  {
   "cell_type": "markdown",
   "id": "b0583cb7",
   "metadata": {},
   "source": [
    "## Description and cleaning of the dataset"
   ]
  },
  {
   "cell_type": "code",
   "execution_count": 7,
   "id": "510c1a9f",
   "metadata": {},
   "outputs": [
    {
     "data": {
      "text/html": [
       "<div>\n",
       "<style scoped>\n",
       "    .dataframe tbody tr th:only-of-type {\n",
       "        vertical-align: middle;\n",
       "    }\n",
       "\n",
       "    .dataframe tbody tr th {\n",
       "        vertical-align: top;\n",
       "    }\n",
       "\n",
       "    .dataframe thead th {\n",
       "        text-align: right;\n",
       "    }\n",
       "</style>\n",
       "<table border=\"1\" class=\"dataframe\">\n",
       "  <thead>\n",
       "    <tr style=\"text-align: right;\">\n",
       "      <th></th>\n",
       "      <th>sepal_length</th>\n",
       "      <th>sepal_width</th>\n",
       "      <th>petal_length</th>\n",
       "      <th>petal_width</th>\n",
       "    </tr>\n",
       "  </thead>\n",
       "  <tbody>\n",
       "    <tr>\n",
       "      <th>count</th>\n",
       "      <td>150.000000</td>\n",
       "      <td>150.000000</td>\n",
       "      <td>150.000000</td>\n",
       "      <td>150.000000</td>\n",
       "    </tr>\n",
       "    <tr>\n",
       "      <th>mean</th>\n",
       "      <td>5.843333</td>\n",
       "      <td>3.057333</td>\n",
       "      <td>3.758000</td>\n",
       "      <td>1.199333</td>\n",
       "    </tr>\n",
       "    <tr>\n",
       "      <th>std</th>\n",
       "      <td>0.828066</td>\n",
       "      <td>0.435866</td>\n",
       "      <td>1.765298</td>\n",
       "      <td>0.762238</td>\n",
       "    </tr>\n",
       "    <tr>\n",
       "      <th>min</th>\n",
       "      <td>4.300000</td>\n",
       "      <td>2.000000</td>\n",
       "      <td>1.000000</td>\n",
       "      <td>0.100000</td>\n",
       "    </tr>\n",
       "    <tr>\n",
       "      <th>25%</th>\n",
       "      <td>5.100000</td>\n",
       "      <td>2.800000</td>\n",
       "      <td>1.600000</td>\n",
       "      <td>0.300000</td>\n",
       "    </tr>\n",
       "    <tr>\n",
       "      <th>50%</th>\n",
       "      <td>5.800000</td>\n",
       "      <td>3.000000</td>\n",
       "      <td>4.350000</td>\n",
       "      <td>1.300000</td>\n",
       "    </tr>\n",
       "    <tr>\n",
       "      <th>75%</th>\n",
       "      <td>6.400000</td>\n",
       "      <td>3.300000</td>\n",
       "      <td>5.100000</td>\n",
       "      <td>1.800000</td>\n",
       "    </tr>\n",
       "    <tr>\n",
       "      <th>max</th>\n",
       "      <td>7.900000</td>\n",
       "      <td>4.400000</td>\n",
       "      <td>6.900000</td>\n",
       "      <td>2.500000</td>\n",
       "    </tr>\n",
       "  </tbody>\n",
       "</table>\n",
       "</div>"
      ],
      "text/plain": [
       "       sepal_length  sepal_width  petal_length  petal_width\n",
       "count    150.000000   150.000000    150.000000   150.000000\n",
       "mean       5.843333     3.057333      3.758000     1.199333\n",
       "std        0.828066     0.435866      1.765298     0.762238\n",
       "min        4.300000     2.000000      1.000000     0.100000\n",
       "25%        5.100000     2.800000      1.600000     0.300000\n",
       "50%        5.800000     3.000000      4.350000     1.300000\n",
       "75%        6.400000     3.300000      5.100000     1.800000\n",
       "max        7.900000     4.400000      6.900000     2.500000"
      ]
     },
     "execution_count": 7,
     "metadata": {},
     "output_type": "execute_result"
    }
   ],
   "source": [
    "iris.describe()"
   ]
  },
  {
   "cell_type": "markdown",
   "id": "54fa33fe",
   "metadata": {},
   "source": [
    "### 1) Look at NaN values"
   ]
  },
  {
   "cell_type": "code",
   "execution_count": 8,
   "id": "623baf86",
   "metadata": {},
   "outputs": [
    {
     "data": {
      "text/plain": [
       "sepal_length    0\n",
       "sepal_width     0\n",
       "petal_length    0\n",
       "petal_width     0\n",
       "species         0\n",
       "dtype: int64"
      ]
     },
     "execution_count": 8,
     "metadata": {},
     "output_type": "execute_result"
    }
   ],
   "source": [
    "iris.isna().sum()"
   ]
  },
  {
   "cell_type": "markdown",
   "id": "0b050eef",
   "metadata": {},
   "source": [
    "There is no NaN value! "
   ]
  },
  {
   "cell_type": "markdown",
   "id": "3b217786",
   "metadata": {},
   "source": [
    "### 2) Visualization of each variable grouped by \"species\""
   ]
  },
  {
   "cell_type": "markdown",
   "id": "ca23db86",
   "metadata": {},
   "source": [
    "#### sepal_length"
   ]
  },
  {
   "cell_type": "code",
   "execution_count": 12,
   "id": "c314c957",
   "metadata": {},
   "outputs": [
    {
     "data": {
      "image/png": "[encoded data removed]",
      "text/plain": [
       "<Figure size 2000x1000 with 1 Axes>"
      ]
     },
     "metadata": {},
     "output_type": "display_data"
    }
   ],
   "source": [
    "plt.figure(figsize=(20,10))\n",
    "sns.boxplot(x=iris.species,y=iris.sepal_length)\n",
    "plt.show()"
   ]
  },
  {
   "cell_type": "markdown",
   "id": "088612b8",
   "metadata": {},
   "source": [
    "#### sepal_width"
   ]
  },
  {
   "cell_type": "code",
   "execution_count": 13,
   "id": "931b7151",
   "metadata": {},
   "outputs": [
    {
     "data": {
      "image/png": "[encoded data removed]",
      "text/plain": [
       "<Figure size 2000x1000 with 1 Axes>"
      ]
     },
     "metadata": {},
     "output_type": "display_data"
    }
   ],
   "source": [
    "plt.figure(figsize=(20,10))\n",
    "sns.boxplot(x=iris.species,y=iris.sepal_width)\n",
    "plt.show()"
   ]
  },
  {
   "cell_type": "markdown",
   "id": "5cf93566",
   "metadata": {},
   "source": [
    "#### petal_length"
   ]
  },
  {
   "cell_type": "code",
   "execution_count": 14,
   "id": "33d2fb07",
   "metadata": {},
   "outputs": [
    {
     "data": {
      "image/png": "[encoded data removed]",
      "text/plain": [
       "<Figure size 2000x1000 with 1 Axes>"
      ]
     },
     "metadata": {},
     "output_type": "display_data"
    }
   ],
   "source": [
    "plt.figure(figsize=(20,10))\n",
    "sns.boxplot(x=iris.species,y=iris.petal_length)\n",
    "plt.show()"
   ]
  },
  {
   "cell_type": "markdown",
   "id": "288acc5e",
   "metadata": {},
   "source": [
    "#### petal_width"
   ]
  },
  {
   "cell_type": "code",
   "execution_count": 15,
   "id": "6c2ede4b",
   "metadata": {},
   "outputs": [
    {
     "data": {
      "image/png": "[encoded data removed]",
      "text/plain": [
       "<Figure size 2000x1000 with 1 Axes>"
      ]
     },
     "metadata": {},
     "output_type": "display_data"
    }
   ],
   "source": [
    "plt.figure(figsize=(20,10))\n",
    "sns.boxplot(x=iris.species,y=iris.petal_width)\n",
    "plt.show()"
   ]
  },
  {
   "cell_type": "markdown",
   "id": "841c5515",
   "metadata": {},
   "source": [
    "## Split the dataset into train and test dataset"
   ]
  },
  {
   "cell_type": "code",
   "execution_count": 18,
   "id": "311223a8",
   "metadata": {},
   "outputs": [],
   "source": [
    "from sklearn.model_selection import train_test_split"
   ]
  },
  {
   "cell_type": "code",
   "execution_count": 271,
   "id": "243a1b24",
   "metadata": {},
   "outputs": [
    {
     "data": {
      "text/plain": [
       "array([0, 1, 2])"
      ]
     },
     "execution_count": 271,
     "metadata": {},
     "output_type": "execute_result"
    }
   ],
   "source": [
    "### this cell is not usefull here. However, this is an example of how transform a variable with string classes into int. \n",
    "# Import label encoder\n",
    "from sklearn import preprocessing\n",
    "  \n",
    "# label_encoder object knows how to understand word labels.\n",
    "label_encoder = preprocessing.LabelEncoder()\n",
    "  \n",
    "# Encode labels in column 'species'.\n",
    "iris['species_labelled']= label_encoder.fit_transform(iris['species'])\n",
    "  \n",
    "iris['species_labelled'].unique()"
   ]
  },
  {
   "cell_type": "code",
   "execution_count": 227,
   "id": "303baddb",
   "metadata": {},
   "outputs": [],
   "source": [
    "X = iris.iloc[:,0:4]\n",
    "#Y = iris.iloc[:,5]\n",
    "Y = iris.iloc[:,4]"
   ]
  },
  {
   "cell_type": "code",
   "execution_count": 228,
   "id": "a08b70d2",
   "metadata": {},
   "outputs": [
    {
     "data": {
      "text/html": [
       "<div>\n",
       "<style scoped>\n",
       "    .dataframe tbody tr th:only-of-type {\n",
       "        vertical-align: middle;\n",
       "    }\n",
       "\n",
       "    .dataframe tbody tr th {\n",
       "        vertical-align: top;\n",
       "    }\n",
       "\n",
       "    .dataframe thead th {\n",
       "        text-align: right;\n",
       "    }\n",
       "</style>\n",
       "<table border=\"1\" class=\"dataframe\">\n",
       "  <thead>\n",
       "    <tr style=\"text-align: right;\">\n",
       "      <th></th>\n",
       "      <th>sepal_length</th>\n",
       "      <th>sepal_width</th>\n",
       "      <th>petal_length</th>\n",
       "      <th>petal_width</th>\n",
       "    </tr>\n",
       "  </thead>\n",
       "  <tbody>\n",
       "    <tr>\n",
       "      <th>14</th>\n",
       "      <td>5.8</td>\n",
       "      <td>4.0</td>\n",
       "      <td>1.2</td>\n",
       "      <td>0.2</td>\n",
       "    </tr>\n",
       "    <tr>\n",
       "      <th>98</th>\n",
       "      <td>5.1</td>\n",
       "      <td>2.5</td>\n",
       "      <td>3.0</td>\n",
       "      <td>1.1</td>\n",
       "    </tr>\n",
       "    <tr>\n",
       "      <th>75</th>\n",
       "      <td>6.6</td>\n",
       "      <td>3.0</td>\n",
       "      <td>4.4</td>\n",
       "      <td>1.4</td>\n",
       "    </tr>\n",
       "    <tr>\n",
       "      <th>16</th>\n",
       "      <td>5.4</td>\n",
       "      <td>3.9</td>\n",
       "      <td>1.3</td>\n",
       "      <td>0.4</td>\n",
       "    </tr>\n",
       "    <tr>\n",
       "      <th>131</th>\n",
       "      <td>7.9</td>\n",
       "      <td>3.8</td>\n",
       "      <td>6.4</td>\n",
       "      <td>2.0</td>\n",
       "    </tr>\n",
       "    <tr>\n",
       "      <th>56</th>\n",
       "      <td>6.3</td>\n",
       "      <td>3.3</td>\n",
       "      <td>4.7</td>\n",
       "      <td>1.6</td>\n",
       "    </tr>\n",
       "    <tr>\n",
       "      <th>141</th>\n",
       "      <td>6.9</td>\n",
       "      <td>3.1</td>\n",
       "      <td>5.1</td>\n",
       "      <td>2.3</td>\n",
       "    </tr>\n",
       "    <tr>\n",
       "      <th>44</th>\n",
       "      <td>5.1</td>\n",
       "      <td>3.8</td>\n",
       "      <td>1.9</td>\n",
       "      <td>0.4</td>\n",
       "    </tr>\n",
       "    <tr>\n",
       "      <th>29</th>\n",
       "      <td>4.7</td>\n",
       "      <td>3.2</td>\n",
       "      <td>1.6</td>\n",
       "      <td>0.2</td>\n",
       "    </tr>\n",
       "    <tr>\n",
       "      <th>120</th>\n",
       "      <td>6.9</td>\n",
       "      <td>3.2</td>\n",
       "      <td>5.7</td>\n",
       "      <td>2.3</td>\n",
       "    </tr>\n",
       "  </tbody>\n",
       "</table>\n",
       "</div>"
      ],
      "text/plain": [
       "     sepal_length  sepal_width  petal_length  petal_width\n",
       "14            5.8          4.0           1.2          0.2\n",
       "98            5.1          2.5           3.0          1.1\n",
       "75            6.6          3.0           4.4          1.4\n",
       "16            5.4          3.9           1.3          0.4\n",
       "131           7.9          3.8           6.4          2.0\n",
       "56            6.3          3.3           4.7          1.6\n",
       "141           6.9          3.1           5.1          2.3\n",
       "44            5.1          3.8           1.9          0.4\n",
       "29            4.7          3.2           1.6          0.2\n",
       "120           6.9          3.2           5.7          2.3"
      ]
     },
     "execution_count": 228,
     "metadata": {},
     "output_type": "execute_result"
    }
   ],
   "source": [
    "X.head(10)"
   ]
  },
  {
   "cell_type": "code",
   "execution_count": 229,
   "id": "a4d16bb8",
   "metadata": {},
   "outputs": [
    {
     "data": {
      "text/plain": [
       "14         setosa\n",
       "98     versicolor\n",
       "75     versicolor\n",
       "16         setosa\n",
       "131     virginica\n",
       "          ...    \n",
       "133     virginica\n",
       "137     virginica\n",
       "72     versicolor\n",
       "140     virginica\n",
       "37         setosa\n",
       "Name: species, Length: 150, dtype: object"
      ]
     },
     "execution_count": 229,
     "metadata": {},
     "output_type": "execute_result"
    }
   ],
   "source": [
    "Y"
   ]
  },
  {
   "cell_type": "code",
   "execution_count": 230,
   "id": "a2f1e042",
   "metadata": {},
   "outputs": [],
   "source": [
    "X_train, X_test, Y_train, Y_test = train_test_split(X, Y, stratify= Y, test_size = 0.2)"
   ]
  },
  {
   "cell_type": "code",
   "execution_count": 231,
   "id": "209e11f8",
   "metadata": {},
   "outputs": [
    {
     "data": {
      "text/plain": [
       "120"
      ]
     },
     "execution_count": 231,
     "metadata": {},
     "output_type": "execute_result"
    }
   ],
   "source": [
    "len(X_train)"
   ]
  },
  {
   "cell_type": "code",
   "execution_count": 232,
   "id": "8efff6b6",
   "metadata": {},
   "outputs": [
    {
     "data": {
      "text/plain": [
       "120"
      ]
     },
     "execution_count": 232,
     "metadata": {},
     "output_type": "execute_result"
    }
   ],
   "source": [
    "len(Y_train)"
   ]
  },
  {
   "cell_type": "code",
   "execution_count": 233,
   "id": "3ee028ae",
   "metadata": {},
   "outputs": [
    {
     "data": {
      "text/plain": [
       "30"
      ]
     },
     "execution_count": 233,
     "metadata": {},
     "output_type": "execute_result"
    }
   ],
   "source": [
    "len(X_test)"
   ]
  },
  {
   "cell_type": "code",
   "execution_count": 234,
   "id": "60ee07c3",
   "metadata": {},
   "outputs": [
    {
     "data": {
      "text/plain": [
       "30"
      ]
     },
     "execution_count": 234,
     "metadata": {},
     "output_type": "execute_result"
    }
   ],
   "source": [
    "len(Y_test)"
   ]
  },
  {
   "cell_type": "code",
   "execution_count": 235,
   "id": "d65c2eac",
   "metadata": {},
   "outputs": [
    {
     "data": {
      "text/plain": [
       "versicolor    40\n",
       "virginica     40\n",
       "setosa        40\n",
       "Name: species, dtype: int64"
      ]
     },
     "execution_count": 235,
     "metadata": {},
     "output_type": "execute_result"
    }
   ],
   "source": [
    "Y_train.value_counts()"
   ]
  },
  {
   "cell_type": "code",
   "execution_count": 236,
   "id": "474c41e2",
   "metadata": {},
   "outputs": [
    {
     "data": {
      "text/plain": [
       "versicolor    10\n",
       "virginica     10\n",
       "setosa        10\n",
       "Name: species, dtype: int64"
      ]
     },
     "execution_count": 236,
     "metadata": {},
     "output_type": "execute_result"
    }
   ],
   "source": [
    "Y_test.value_counts()"
   ]
  },
  {
   "cell_type": "markdown",
   "id": "4215b826",
   "metadata": {},
   "source": [
    "## Prediction (machine learning)"
   ]
  },
  {
   "cell_type": "markdown",
   "id": "c92ffcb0",
   "metadata": {},
   "source": [
    "Here we are in the case of supervised classification (as the out to predict is a categorical variable).\n",
    "Let's try first a __generative__ and then a __discriminative__ method."
   ]
  },
  {
   "cell_type": "markdown",
   "id": "cf654644",
   "metadata": {},
   "source": [
    "### 1) Generative methods"
   ]
  },
  {
   "cell_type": "markdown",
   "id": "20b72074",
   "metadata": {},
   "source": [
    "#### a. Linear discriminant analysis (LDA or FDA)"
   ]
  },
  {
   "cell_type": "code",
   "execution_count": 237,
   "id": "29a12066",
   "metadata": {},
   "outputs": [],
   "source": [
    "from sklearn.preprocessing import StandardScaler"
   ]
  },
  {
   "cell_type": "code",
   "execution_count": 238,
   "id": "61b1e3af",
   "metadata": {},
   "outputs": [],
   "source": [
    "sc = StandardScaler()\n",
    "X_train = sc.fit_transform(X_train)\n",
    "X_test = sc.transform(X_test)"
   ]
  },
  {
   "cell_type": "code",
   "execution_count": 239,
   "id": "36b5db49",
   "metadata": {},
   "outputs": [
    {
     "data": {
      "text/plain": [
       "array([[-0.3970566 , -1.53127876, -0.0138359 , -0.25320711],\n",
       "       [ 0.57285266, -1.28885996,  0.73044034,  0.95147871],\n",
       "       [-0.3970566 ,  2.83225966, -1.33063235, -1.32403895],\n",
       "       [ 0.81532997, -0.56160356,  0.50143227,  0.41606279],\n",
       "       [ 1.05780729, -1.28885996,  1.1884565 ,  0.81762473],\n",
       "       [-0.88201124, -1.28885996, -0.41460004, -0.11935313],\n",
       "       [-1.73068184, -0.31918475, -1.33063235, -1.32403895],\n",
       "       [ 1.05780729,  0.16565285,  0.38692823,  0.28220881],\n",
       "       [ 0.69409132, -0.80402236,  0.9021964 ,  0.95147871],\n",
       "       [-1.00324989,  0.65049045, -1.33063235, -1.32403895],\n",
       "       [-0.88201124,  0.65049045, -1.15887629, -0.92247701],\n",
       "       [-0.88201124,  1.62016565, -1.27338033, -1.05633099],\n",
       "       [-1.00324989, -2.50095396, -0.12833994, -0.25320711],\n",
       "       [-0.27581795, -0.07676595,  0.21517217,  0.14835483],\n",
       "       [ 0.69409132,  0.16565285,  1.01670044,  0.81762473],\n",
       "       [ 1.30028461,  0.16565285,  0.95944842,  1.21918667],\n",
       "       [-1.00324989,  1.37774685, -1.33063235, -1.32403895],\n",
       "       [-1.24572721,  0.16565285, -1.21612831, -1.32403895],\n",
       "       [ 0.451614  , -0.56160356,  0.61593631,  0.81762473],\n",
       "       [ 1.66400058,  1.37774685,  1.36021256,  1.75460259],\n",
       "       [ 0.81532997,  0.40807165,  0.78769236,  1.08533269],\n",
       "       [ 1.90647789, -0.56160356,  1.36021256,  0.95147871],\n",
       "       [ 0.57285266, -1.28885996,  0.67318833,  0.41606279],\n",
       "       [ 1.17904595,  0.40807165,  1.24570852,  1.48689463],\n",
       "       [ 0.451614  , -2.01611636,  0.44418025,  0.41606279],\n",
       "       [-1.12448855,  0.16565285, -1.27338033, -1.45789294],\n",
       "       [ 0.33037534, -0.56160356,  0.15792015,  0.14835483],\n",
       "       [-0.51829526,  1.62016565, -1.27338033, -1.32403895],\n",
       "       [-1.24572721, -0.07676595, -1.33063235, -1.19018497],\n",
       "       [-0.88201124,  1.13532805, -1.33063235, -1.19018497],\n",
       "       [-1.48820452,  0.89290925, -1.33063235, -1.19018497],\n",
       "       [ 1.05780729,  0.16565285,  1.07395246,  1.62074861],\n",
       "       [-1.48820452,  0.40807165, -1.33063235, -1.32403895],\n",
       "       [-0.15457929, -0.07676595,  0.27242419,  0.01450085],\n",
       "       [-0.03334063, -1.04644116,  0.15792015,  0.01450085],\n",
       "       [-0.15457929, -1.04644116, -0.12833994, -0.25320711],\n",
       "       [ 0.33037534, -0.31918475,  0.55868429,  0.28220881],\n",
       "       [ 0.57285266, -1.77369756,  0.38692823,  0.14835483],\n",
       "       [-0.27581795, -0.31918475, -0.07108792,  0.14835483],\n",
       "       [ 1.66400058,  0.40807165,  1.30296054,  0.81762473],\n",
       "       [ 0.93656863, -0.07676595,  0.38692823,  0.28220881],\n",
       "       [-0.03334063, -0.80402236,  0.78769236,  0.95147871],\n",
       "       [ 0.57285266, -0.31918475,  1.07395246,  0.81762473],\n",
       "       [ 0.20913668, -2.01611636,  0.15792015, -0.25320711],\n",
       "       [-1.48820452,  1.37774685, -1.55964042, -1.32403895],\n",
       "       [ 1.05780729,  0.16565285,  0.55868429,  0.41606279],\n",
       "       [ 1.54276192, -0.07676595,  1.24570852,  1.21918667],\n",
       "       [ 1.42152326,  0.40807165,  0.55868429,  0.28220881],\n",
       "       [ 0.451614  ,  0.89290925,  0.95944842,  1.48689463],\n",
       "       [-1.00324989, -1.77369756, -0.24284398, -0.25320711],\n",
       "       [-1.24572721,  0.89290925, -1.21612831, -1.32403895],\n",
       "       [-1.8519205 , -0.07676595, -1.5023884 , -1.45789294],\n",
       "       [ 0.69409132,  0.40807165,  0.9021964 ,  1.48689463],\n",
       "       [-1.00324989,  1.13532805, -1.38788436, -1.19018497],\n",
       "       [ 0.451614  , -0.31918475,  0.32967621,  0.14835483],\n",
       "       [ 2.27019387, -0.56160356,  1.70372467,  1.08533269],\n",
       "       [ 2.27019387, -0.07676595,  1.36021256,  1.48689463],\n",
       "       [-0.03334063,  2.34742206, -1.44513638, -1.32403895],\n",
       "       [-0.27581795, -0.56160356,  0.67318833,  1.08533269],\n",
       "       [ 2.14895521, -0.07676595,  1.64647265,  1.21918667],\n",
       "       [-0.88201124,  1.13532805, -1.33063235, -1.32403895],\n",
       "       [ 0.57285266, -0.56160356,  0.78769236,  0.41606279],\n",
       "       [ 0.69409132, -0.56160356,  1.07395246,  1.21918667],\n",
       "       [-0.27581795, -0.07676595,  0.44418025,  0.41606279],\n",
       "       [-0.03334063, -0.80402236,  0.21517217, -0.25320711],\n",
       "       [ 1.05780729,  0.65049045,  1.13120448,  1.75460259],\n",
       "       [-1.73068184, -0.07676595, -1.38788436, -1.32403895],\n",
       "       [-1.24572721, -0.07676595, -1.33063235, -1.45789294],\n",
       "       [-0.76077258, -0.80402236,  0.10066813,  0.28220881],\n",
       "       [-1.12448855,  1.37774685, -1.33063235, -1.45789294],\n",
       "       [ 0.20913668, -0.80402236,  0.78769236,  0.54991677],\n",
       "       [-1.00324989, -0.07676595, -1.21612831, -1.32403895],\n",
       "       [-1.36696587,  0.40807165, -1.38788436, -1.32403895],\n",
       "       [-0.3970566 ,  1.13532805, -1.38788436, -1.32403895],\n",
       "       [-0.76077258,  0.89290925, -1.33063235, -1.32403895],\n",
       "       [-0.03334063, -0.56160356,  0.78769236,  1.62074861],\n",
       "       [ 1.17904595, -0.07676595,  1.01670044,  1.21918667],\n",
       "       [-0.03334063, -0.80402236,  0.10066813,  0.01450085],\n",
       "       [-1.12448855, -1.28885996,  0.44418025,  0.68377075],\n",
       "       [ 0.20913668,  0.89290925,  0.44418025,  0.54991677],\n",
       "       [ 0.33037534, -1.04644116,  1.07395246,  0.28220881],\n",
       "       [ 1.30028461,  0.16565285,  0.67318833,  0.41606279],\n",
       "       [-0.15457929, -0.56160356,  0.21517217,  0.14835483],\n",
       "       [ 1.78523924, -0.31918475,  1.47471659,  0.81762473],\n",
       "       [-1.00324989,  0.40807165, -1.44513638, -1.32403895],\n",
       "       [ 1.30028461,  0.16565285,  0.78769236,  1.48689463],\n",
       "       [ 0.57285266,  0.65049045,  0.55868429,  0.54991677],\n",
       "       [ 0.33037534, -0.07676595,  0.67318833,  0.81762473],\n",
       "       [-0.63953392,  1.62016565, -1.27338033, -1.32403895],\n",
       "       [ 1.66400058, -0.07676595,  1.1884565 ,  0.54991677],\n",
       "       [-1.12448855, -1.53127876, -0.24284398, -0.25320711],\n",
       "       [-0.51829526,  0.89290925, -1.27338033, -1.05633099],\n",
       "       [ 0.81532997, -0.07676595,  1.1884565 ,  1.35304065],\n",
       "       [-0.15457929,  1.86258445, -1.15887629, -1.19018497],\n",
       "       [ 1.05780729, -0.07676595,  0.84494438,  1.48689463],\n",
       "       [-0.15457929, -0.56160356,  0.44418025,  0.14835483],\n",
       "       [-1.00324989,  0.89290925, -1.21612831, -1.05633099],\n",
       "       [-1.12448855, -0.07676595, -1.33063235, -1.32403895],\n",
       "       [ 0.20913668, -2.01611636,  0.73044034,  0.41606279],\n",
       "       [ 0.20913668, -0.07676595,  0.61593631,  0.81762473],\n",
       "       [ 0.69409132,  0.40807165,  0.44418025,  0.41606279],\n",
       "       [-1.48820452,  0.16565285, -1.27338033, -1.32403895],\n",
       "       [ 0.33037534, -0.56160356,  0.55868429,  0.01450085],\n",
       "       [-1.00324989,  0.89290925, -1.27338033, -1.32403895],\n",
       "       [-0.03334063, -0.80402236,  0.78769236,  0.95147871],\n",
       "       [ 0.69409132, -0.31918475,  0.32967621,  0.14835483],\n",
       "       [ 0.08789803,  0.40807165,  0.61593631,  0.81762473],\n",
       "       [-0.51829526, -0.07676595,  0.44418025,  0.41606279],\n",
       "       [ 0.81532997, -0.07676595,  0.84494438,  1.08533269],\n",
       "       [-0.15457929,  3.31709726, -1.27338033, -1.05633099],\n",
       "       [-0.3970566 , -1.28885996,  0.15792015,  0.14835483],\n",
       "       [ 0.81532997, -0.07676595,  1.01670044,  0.81762473],\n",
       "       [ 0.08789803, -0.07676595,  0.78769236,  0.81762473],\n",
       "       [-1.36696587,  0.40807165, -1.21612831, -1.32403895],\n",
       "       [-0.51829526,  2.10500326, -1.15887629, -1.05633099],\n",
       "       [-1.73068184,  0.40807165, -1.38788436, -1.32403895],\n",
       "       [ 1.17904595, -0.56160356,  0.61593631,  0.28220881],\n",
       "       [-1.00324989,  1.13532805, -1.21612831, -0.78862303],\n",
       "       [-1.60944318, -1.77369756, -1.38788436, -1.19018497],\n",
       "       [ 1.05780729, -0.07676595,  0.73044034,  0.68377075]])"
      ]
     },
     "execution_count": 239,
     "metadata": {},
     "output_type": "execute_result"
    }
   ],
   "source": [
    "X_train"
   ]
  },
  {
   "cell_type": "code",
   "execution_count": 240,
   "id": "d0db8926",
   "metadata": {},
   "outputs": [
    {
     "data": {
      "text/plain": [
       "array([[ 0.93656863, -0.31918475,  0.50143227,  0.14835483],\n",
       "       [-0.3970566 , -1.04644116,  0.38692823,  0.01450085],\n",
       "       [-0.15457929, -0.31918475,  0.27242419,  0.14835483],\n",
       "       [ 0.33037534, -0.07676595,  0.50143227,  0.28220881],\n",
       "       [ 2.27019387, -1.04644116,  1.81822871,  1.48689463],\n",
       "       [-0.3970566 , -1.77369756,  0.15792015,  0.14835483],\n",
       "       [-0.51829526,  0.89290925, -1.15887629, -1.32403895],\n",
       "       [-0.27581795, -0.80402236,  0.27242419,  0.14835483],\n",
       "       [-0.3970566 , -1.53127876,  0.04341611, -0.11935313],\n",
       "       [ 0.57285266,  0.65049045,  1.30296054,  1.75460259],\n",
       "       [-0.27581795, -1.28885996,  0.10066813, -0.11935313],\n",
       "       [-0.88201124,  0.89290925, -1.27338033, -1.32403895],\n",
       "       [ 1.30028461,  0.40807165,  1.13120448,  1.48689463],\n",
       "       [-0.88201124,  1.86258445, -1.27338033, -1.19018497],\n",
       "       [ 2.27019387,  1.86258445,  1.70372467,  1.35304065],\n",
       "       [ 0.69409132, -0.56160356,  1.07395246,  1.35304065],\n",
       "       [-0.76077258,  2.58984086, -1.27338033, -1.45789294],\n",
       "       [-1.12448855,  0.16565285, -1.27338033, -1.32403895],\n",
       "       [ 0.08789803, -0.07676595,  0.27242419,  0.41606279],\n",
       "       [-0.88201124,  1.86258445, -1.04437225, -1.05633099],\n",
       "       [-1.24572721,  0.89290925, -1.04437225, -1.32403895],\n",
       "       [-0.51829526,  2.10500326, -1.38788436, -1.05633099],\n",
       "       [ 0.57285266,  0.89290925,  1.07395246,  1.62074861],\n",
       "       [-0.76077258,  1.13532805, -1.27338033, -1.32403895],\n",
       "       [-0.15457929, -1.28885996,  0.73044034,  1.08533269],\n",
       "       [ 0.20913668, -0.31918475,  0.44418025,  0.41606279],\n",
       "       [ 0.57285266, -0.80402236,  0.67318833,  0.81762473],\n",
       "       [ 2.51267118,  1.86258445,  1.53196861,  1.08533269],\n",
       "       [-0.88201124,  1.86258445, -1.21612831, -1.32403895],\n",
       "       [ 1.05780729,  0.65049045,  1.13120448,  1.21918667]])"
      ]
     },
     "execution_count": 240,
     "metadata": {},
     "output_type": "execute_result"
    }
   ],
   "source": [
    "X_test"
   ]
  },
  {
   "cell_type": "code",
   "execution_count": 241,
   "id": "e4a513a2",
   "metadata": {},
   "outputs": [],
   "source": [
    "from sklearn.discriminant_analysis import LinearDiscriminantAnalysis as LDA\n",
    "from sklearn.metrics import classification_report"
   ]
  },
  {
   "cell_type": "code",
   "execution_count": 242,
   "id": "95aef218",
   "metadata": {},
   "outputs": [
    {
     "data": {
      "text/plain": [
       "LinearDiscriminantAnalysis(n_components=1)"
      ]
     },
     "execution_count": 242,
     "metadata": {},
     "output_type": "execute_result"
    }
   ],
   "source": [
    "lda_model = LDA(n_components=1)\n",
    "lda_model.fit(X=X_train, y=Y_train)"
   ]
  },
  {
   "cell_type": "code",
   "execution_count": 243,
   "id": "7e75dbf5",
   "metadata": {},
   "outputs": [],
   "source": [
    "Y_test_predicted_LDA = lda_model.predict(X_test)"
   ]
  },
  {
   "cell_type": "code",
   "execution_count": 244,
   "id": "e20ffa54",
   "metadata": {},
   "outputs": [],
   "source": [
    "report_LDA = classification_report(y_pred=Y_test_predicted_LDA, y_true=Y_test)"
   ]
  },
  {
   "cell_type": "code",
   "execution_count": 245,
   "id": "451ab692",
   "metadata": {},
   "outputs": [
    {
     "name": "stdout",
     "output_type": "stream",
     "text": [
      "              precision    recall  f1-score   support\n",
      "\n",
      "      setosa       1.00      1.00      1.00        10\n",
      "  versicolor       1.00      1.00      1.00        10\n",
      "   virginica       1.00      1.00      1.00        10\n",
      "\n",
      "    accuracy                           1.00        30\n",
      "   macro avg       1.00      1.00      1.00        30\n",
      "weighted avg       1.00      1.00      1.00        30\n",
      "\n"
     ]
    }
   ],
   "source": [
    "print(report_LDA)"
   ]
  },
  {
   "cell_type": "markdown",
   "id": "04d8d9d2",
   "metadata": {},
   "source": [
    "#### b. Logistic regression"
   ]
  },
  {
   "cell_type": "code",
   "execution_count": 246,
   "id": "880fb88a",
   "metadata": {},
   "outputs": [],
   "source": [
    "from sklearn.linear_model import LogisticRegression"
   ]
  },
  {
   "cell_type": "code",
   "execution_count": 247,
   "id": "754559b7",
   "metadata": {},
   "outputs": [],
   "source": [
    "lr_model = LogisticRegression(random_state=0,max_iter=1000)"
   ]
  },
  {
   "cell_type": "code",
   "execution_count": 248,
   "id": "4d73dd02",
   "metadata": {},
   "outputs": [
    {
     "data": {
      "text/plain": [
       "LogisticRegression(max_iter=1000, random_state=0)"
      ]
     },
     "execution_count": 248,
     "metadata": {},
     "output_type": "execute_result"
    }
   ],
   "source": [
    "lr_model.fit(X=X_train, y=Y_train)"
   ]
  },
  {
   "cell_type": "code",
   "execution_count": 249,
   "id": "c9ddc453",
   "metadata": {},
   "outputs": [],
   "source": [
    "Y_test_predicted_LR = lr_model.predict(X_test)"
   ]
  },
  {
   "cell_type": "code",
   "execution_count": 250,
   "id": "5f9c2d8a",
   "metadata": {},
   "outputs": [],
   "source": [
    "report_LR = classification_report(y_pred=Y_test_predicted_LR, y_true=Y_test)"
   ]
  },
  {
   "cell_type": "code",
   "execution_count": 251,
   "id": "3b1430ce",
   "metadata": {},
   "outputs": [
    {
     "name": "stdout",
     "output_type": "stream",
     "text": [
      "              precision    recall  f1-score   support\n",
      "\n",
      "      setosa       1.00      1.00      1.00        10\n",
      "  versicolor       1.00      1.00      1.00        10\n",
      "   virginica       1.00      1.00      1.00        10\n",
      "\n",
      "    accuracy                           1.00        30\n",
      "   macro avg       1.00      1.00      1.00        30\n",
      "weighted avg       1.00      1.00      1.00        30\n",
      "\n"
     ]
    }
   ],
   "source": [
    "print(report_LR)"
   ]
  },
  {
   "cell_type": "markdown",
   "id": "764724a1",
   "metadata": {},
   "source": [
    "### 2) Discriminative methods"
   ]
  },
  {
   "cell_type": "markdown",
   "id": "8b526275",
   "metadata": {},
   "source": [
    "Discriminative methods contain SVM, k-nn and CNN"
   ]
  },
  {
   "cell_type": "markdown",
   "id": "28b1bf44",
   "metadata": {},
   "source": [
    "#### a. Support Vector Machine for Classification"
   ]
  },
  {
   "cell_type": "code",
   "execution_count": 252,
   "id": "a6783743",
   "metadata": {},
   "outputs": [],
   "source": [
    "from sklearn.svm import SVC"
   ]
  },
  {
   "cell_type": "code",
   "execution_count": 253,
   "id": "6a0e43fc",
   "metadata": {},
   "outputs": [],
   "source": [
    "svc_model = SVC(random_state=0,max_iter=100)"
   ]
  },
  {
   "cell_type": "code",
   "execution_count": 254,
   "id": "aa4a8be9",
   "metadata": {},
   "outputs": [
    {
     "data": {
      "text/plain": [
       "SVC(max_iter=100, random_state=0)"
      ]
     },
     "execution_count": 254,
     "metadata": {},
     "output_type": "execute_result"
    }
   ],
   "source": [
    "svc_model.fit(X=X_train, y=Y_train)"
   ]
  },
  {
   "cell_type": "code",
   "execution_count": 255,
   "id": "af8180a7",
   "metadata": {},
   "outputs": [],
   "source": [
    "Y_test_predicted_svc = svc_model.predict(X_test)"
   ]
  },
  {
   "cell_type": "code",
   "execution_count": 256,
   "id": "184447f8",
   "metadata": {},
   "outputs": [],
   "source": [
    "report_svc = classification_report(y_pred=Y_test_predicted_svc, y_true=Y_test)"
   ]
  },
  {
   "cell_type": "code",
   "execution_count": 257,
   "id": "ec31b200",
   "metadata": {},
   "outputs": [
    {
     "name": "stdout",
     "output_type": "stream",
     "text": [
      "              precision    recall  f1-score   support\n",
      "\n",
      "      setosa       1.00      1.00      1.00        10\n",
      "  versicolor       1.00      1.00      1.00        10\n",
      "   virginica       1.00      1.00      1.00        10\n",
      "\n",
      "    accuracy                           1.00        30\n",
      "   macro avg       1.00      1.00      1.00        30\n",
      "weighted avg       1.00      1.00      1.00        30\n",
      "\n"
     ]
    }
   ],
   "source": [
    "print(report_svc)"
   ]
  },
  {
   "cell_type": "markdown",
   "id": "64781ce4",
   "metadata": {},
   "source": [
    "#### b. K-nn"
   ]
  },
  {
   "cell_type": "code",
   "execution_count": 258,
   "id": "c70e17ad",
   "metadata": {},
   "outputs": [],
   "source": [
    "from sklearn.neighbors import KNeighborsClassifier as KNN"
   ]
  },
  {
   "cell_type": "code",
   "execution_count": 259,
   "id": "02e12b27",
   "metadata": {},
   "outputs": [],
   "source": [
    "knn_model = KNN(n_neighbors=8)"
   ]
  },
  {
   "cell_type": "code",
   "execution_count": 260,
   "id": "4366b3c5",
   "metadata": {},
   "outputs": [
    {
     "data": {
      "text/plain": [
       "KNeighborsClassifier(n_neighbors=8)"
      ]
     },
     "execution_count": 260,
     "metadata": {},
     "output_type": "execute_result"
    }
   ],
   "source": [
    "knn_model.fit(X=X_train, y=Y_train)"
   ]
  },
  {
   "cell_type": "code",
   "execution_count": 261,
   "id": "69cc416f",
   "metadata": {},
   "outputs": [],
   "source": [
    "Y_test_predicted_knn = knn_model.predict(X_test)"
   ]
  },
  {
   "cell_type": "code",
   "execution_count": 262,
   "id": "070c2793",
   "metadata": {},
   "outputs": [
    {
     "data": {
      "text/plain": [
       "array(['versicolor', 'versicolor', 'versicolor', 'versicolor',\n",
       "       'virginica', 'versicolor', 'setosa', 'versicolor', 'versicolor',\n",
       "       'virginica', 'versicolor', 'setosa', 'virginica', 'setosa',\n",
       "       'virginica', 'virginica', 'setosa', 'setosa', 'versicolor',\n",
       "       'setosa', 'setosa', 'setosa', 'virginica', 'setosa', 'virginica',\n",
       "       'versicolor', 'virginica', 'virginica', 'setosa', 'virginica'],\n",
       "      dtype=object)"
      ]
     },
     "execution_count": 262,
     "metadata": {},
     "output_type": "execute_result"
    }
   ],
   "source": [
    "Y_test_predicted_knn"
   ]
  },
  {
   "cell_type": "code",
   "execution_count": 263,
   "id": "b25123e6",
   "metadata": {},
   "outputs": [],
   "source": [
    "report_knn = classification_report(y_pred=Y_test_predicted_knn, y_true=Y_test)"
   ]
  },
  {
   "cell_type": "code",
   "execution_count": 264,
   "id": "7776313c",
   "metadata": {},
   "outputs": [
    {
     "name": "stdout",
     "output_type": "stream",
     "text": [
      "              precision    recall  f1-score   support\n",
      "\n",
      "      setosa       1.00      1.00      1.00        10\n",
      "  versicolor       1.00      1.00      1.00        10\n",
      "   virginica       1.00      1.00      1.00        10\n",
      "\n",
      "    accuracy                           1.00        30\n",
      "   macro avg       1.00      1.00      1.00        30\n",
      "weighted avg       1.00      1.00      1.00        30\n",
      "\n"
     ]
    }
   ],
   "source": [
    "print(report_knn)"
   ]
  },
  {
   "cell_type": "markdown",
   "id": "c22a2086",
   "metadata": {},
   "source": [
    "#### c. ANN"
   ]
  },
  {
   "cell_type": "code",
   "execution_count": 265,
   "id": "ffc243b6",
   "metadata": {},
   "outputs": [],
   "source": [
    "from sklearn.neural_network import MLPClassifier"
   ]
  },
  {
   "cell_type": "code",
   "execution_count": 266,
   "id": "92912853",
   "metadata": {},
   "outputs": [],
   "source": [
    "nn_model = MLPClassifier(hidden_layer_sizes=(40,10),max_iter=500)"
   ]
  },
  {
   "cell_type": "code",
   "execution_count": 267,
   "id": "ff296a11",
   "metadata": {},
   "outputs": [
    {
     "data": {
      "text/plain": [
       "MLPClassifier(hidden_layer_sizes=(40, 10), max_iter=500)"
      ]
     },
     "execution_count": 267,
     "metadata": {},
     "output_type": "execute_result"
    }
   ],
   "source": [
    "nn_model.fit(X=X_train,y=Y_train)"
   ]
  },
  {
   "cell_type": "code",
   "execution_count": 268,
   "id": "7683451d",
   "metadata": {},
   "outputs": [],
   "source": [
    "y_test_predicted_nn = nn_model.predict(X_test)"
   ]
  },
  {
   "cell_type": "code",
   "execution_count": 269,
   "id": "9c9af4f6",
   "metadata": {},
   "outputs": [],
   "source": [
    "report_nn = classification_report(y_pred=y_test_predicted_nn,y_true=Y_test)"
   ]
  },
  {
   "cell_type": "code",
   "execution_count": 270,
   "id": "334285b1",
   "metadata": {},
   "outputs": [
    {
     "name": "stdout",
     "output_type": "stream",
     "text": [
      "              precision    recall  f1-score   support\n",
      "\n",
      "      setosa       1.00      1.00      1.00        10\n",
      "  versicolor       1.00      1.00      1.00        10\n",
      "   virginica       1.00      1.00      1.00        10\n",
      "\n",
      "    accuracy                           1.00        30\n",
      "   macro avg       1.00      1.00      1.00        30\n",
      "weighted avg       1.00      1.00      1.00        30\n",
      "\n"
     ]
    }
   ],
   "source": [
    "print(report_nn)"
   ]
  },
  {
   "cell_type": "markdown",
   "id": "a0f29ac5",
   "metadata": {},
   "source": [
    "### 3) Conclusions\n",
    "Here is an example of how to predict a class variable. As the dataset is perfect, all the prediction models give us an F1 score between 97 and 100. "
   ]
  }
 ],
 "metadata": {
  "kernelspec": {
   "display_name": "Python 3 (ipykernel)",
   "language": "python",
   "name": "python3"
  },
  "language_info": {
   "codemirror_mode": {
    "name": "ipython",
    "version": 3
   },
   "file_extension": ".py",
   "mimetype": "text/x-python",
   "name": "python",
   "nbconvert_exporter": "python",
   "pygments_lexer": "ipython3",
   "version": "3.7.13"
  }
 },
 "nbformat": 4,
 "nbformat_minor": 5
}
